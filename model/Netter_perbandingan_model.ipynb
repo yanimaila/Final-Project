{
  "cells": [
    {
      "cell_type": "markdown",
      "metadata": {
        "id": "eXBgAoOEosfa"
      },
      "source": [
        "# Preprocessing Data"
      ]
    },
    {
      "cell_type": "code",
      "execution_count": 1,
      "metadata": {
        "id": "Fw06KjhsjYte"
      },
      "outputs": [],
      "source": [
        "import pandas as pd\n",
        "import matplotlib.pyplot as plt\n",
        "import seaborn as sns\n",
        "import numpy as np\n",
        "from collections import Counter\n",
        "from numpy import where"
      ]
    },
    {
      "cell_type": "code",
      "execution_count": 2,
      "metadata": {
        "colab": {
          "base_uri": "https://localhost:8080/",
          "height": 424
        },
        "id": "xnRtWm-WkCOy",
        "outputId": "719c0bf0-34ed-4fd5-f1ba-2210c56e050e"
      },
      "outputs": [
        {
          "data": {
            "text/html": [
              "<div>\n",
              "<style scoped>\n",
              "    .dataframe tbody tr th:only-of-type {\n",
              "        vertical-align: middle;\n",
              "    }\n",
              "\n",
              "    .dataframe tbody tr th {\n",
              "        vertical-align: top;\n",
              "    }\n",
              "\n",
              "    .dataframe thead th {\n",
              "        text-align: right;\n",
              "    }\n",
              "</style>\n",
              "<table border=\"1\" class=\"dataframe\">\n",
              "  <thead>\n",
              "    <tr style=\"text-align: right;\">\n",
              "      <th></th>\n",
              "      <th>Mood</th>\n",
              "      <th>Sering_Pusing</th>\n",
              "      <th>Sering_Menangis</th>\n",
              "      <th>Sulit_Tidur</th>\n",
              "      <th>Pola_Makan</th>\n",
              "      <th>Sering_Gelisah</th>\n",
              "      <th>Hasil</th>\n",
              "    </tr>\n",
              "  </thead>\n",
              "  <tbody>\n",
              "    <tr>\n",
              "      <th>0</th>\n",
              "      <td>0</td>\n",
              "      <td>0</td>\n",
              "      <td>0</td>\n",
              "      <td>1</td>\n",
              "      <td>1</td>\n",
              "      <td>1</td>\n",
              "      <td>0</td>\n",
              "    </tr>\n",
              "    <tr>\n",
              "      <th>1</th>\n",
              "      <td>1</td>\n",
              "      <td>1</td>\n",
              "      <td>0</td>\n",
              "      <td>1</td>\n",
              "      <td>1</td>\n",
              "      <td>1</td>\n",
              "      <td>1</td>\n",
              "    </tr>\n",
              "    <tr>\n",
              "      <th>2</th>\n",
              "      <td>1</td>\n",
              "      <td>0</td>\n",
              "      <td>0</td>\n",
              "      <td>0</td>\n",
              "      <td>0</td>\n",
              "      <td>0</td>\n",
              "      <td>0</td>\n",
              "    </tr>\n",
              "    <tr>\n",
              "      <th>3</th>\n",
              "      <td>1</td>\n",
              "      <td>1</td>\n",
              "      <td>0</td>\n",
              "      <td>1</td>\n",
              "      <td>1</td>\n",
              "      <td>1</td>\n",
              "      <td>1</td>\n",
              "    </tr>\n",
              "    <tr>\n",
              "      <th>4</th>\n",
              "      <td>1</td>\n",
              "      <td>0</td>\n",
              "      <td>1</td>\n",
              "      <td>1</td>\n",
              "      <td>1</td>\n",
              "      <td>1</td>\n",
              "      <td>1</td>\n",
              "    </tr>\n",
              "    <tr>\n",
              "      <th>...</th>\n",
              "      <td>...</td>\n",
              "      <td>...</td>\n",
              "      <td>...</td>\n",
              "      <td>...</td>\n",
              "      <td>...</td>\n",
              "      <td>...</td>\n",
              "      <td>...</td>\n",
              "    </tr>\n",
              "    <tr>\n",
              "      <th>144</th>\n",
              "      <td>1</td>\n",
              "      <td>1</td>\n",
              "      <td>0</td>\n",
              "      <td>0</td>\n",
              "      <td>1</td>\n",
              "      <td>1</td>\n",
              "      <td>1</td>\n",
              "    </tr>\n",
              "    <tr>\n",
              "      <th>145</th>\n",
              "      <td>1</td>\n",
              "      <td>0</td>\n",
              "      <td>1</td>\n",
              "      <td>0</td>\n",
              "      <td>0</td>\n",
              "      <td>0</td>\n",
              "      <td>0</td>\n",
              "    </tr>\n",
              "    <tr>\n",
              "      <th>146</th>\n",
              "      <td>0</td>\n",
              "      <td>0</td>\n",
              "      <td>0</td>\n",
              "      <td>0</td>\n",
              "      <td>0</td>\n",
              "      <td>0</td>\n",
              "      <td>2</td>\n",
              "    </tr>\n",
              "    <tr>\n",
              "      <th>147</th>\n",
              "      <td>0</td>\n",
              "      <td>0</td>\n",
              "      <td>0</td>\n",
              "      <td>0</td>\n",
              "      <td>0</td>\n",
              "      <td>0</td>\n",
              "      <td>2</td>\n",
              "    </tr>\n",
              "    <tr>\n",
              "      <th>148</th>\n",
              "      <td>0</td>\n",
              "      <td>0</td>\n",
              "      <td>0</td>\n",
              "      <td>0</td>\n",
              "      <td>0</td>\n",
              "      <td>0</td>\n",
              "      <td>2</td>\n",
              "    </tr>\n",
              "  </tbody>\n",
              "</table>\n",
              "<p>149 rows × 7 columns</p>\n",
              "</div>"
            ],
            "text/plain": [
              "     Mood  Sering_Pusing  Sering_Menangis  Sulit_Tidur  Pola_Makan  \\\n",
              "0       0              0                0            1           1   \n",
              "1       1              1                0            1           1   \n",
              "2       1              0                0            0           0   \n",
              "3       1              1                0            1           1   \n",
              "4       1              0                1            1           1   \n",
              "..    ...            ...              ...          ...         ...   \n",
              "144     1              1                0            0           1   \n",
              "145     1              0                1            0           0   \n",
              "146     0              0                0            0           0   \n",
              "147     0              0                0            0           0   \n",
              "148     0              0                0            0           0   \n",
              "\n",
              "     Sering_Gelisah  Hasil  \n",
              "0                 1      0  \n",
              "1                 1      1  \n",
              "2                 0      0  \n",
              "3                 1      1  \n",
              "4                 1      1  \n",
              "..              ...    ...  \n",
              "144               1      1  \n",
              "145               0      0  \n",
              "146               0      2  \n",
              "147               0      2  \n",
              "148               0      2  \n",
              "\n",
              "[149 rows x 7 columns]"
            ]
          },
          "execution_count": 2,
          "metadata": {},
          "output_type": "execute_result"
        }
      ],
      "source": [
        "data = pd.read_csv(\"./../dataset/mentalhealth(le).csv\", delimiter = ';')\n",
        "data"
      ]
    },
    {
      "cell_type": "code",
      "execution_count": 3,
      "metadata": {
        "colab": {
          "base_uri": "https://localhost:8080/"
        },
        "id": "sCcqiewJkKi6",
        "outputId": "bc07c4c3-edc1-4f94-bea1-dd5b9fb0f230"
      },
      "outputs": [
        {
          "name": "stdout",
          "output_type": "stream",
          "text": [
            "<class 'pandas.core.frame.DataFrame'>\n",
            "RangeIndex: 149 entries, 0 to 148\n",
            "Data columns (total 7 columns):\n",
            " #   Column           Non-Null Count  Dtype\n",
            "---  ------           --------------  -----\n",
            " 0   Mood             149 non-null    int64\n",
            " 1   Sering_Pusing    149 non-null    int64\n",
            " 2   Sering_Menangis  149 non-null    int64\n",
            " 3   Sulit_Tidur      149 non-null    int64\n",
            " 4   Pola_Makan       149 non-null    int64\n",
            " 5   Sering_Gelisah   149 non-null    int64\n",
            " 6   Hasil            149 non-null    int64\n",
            "dtypes: int64(7)\n",
            "memory usage: 8.3 KB\n"
          ]
        }
      ],
      "source": [
        "data.info()"
      ]
    },
    {
      "cell_type": "code",
      "execution_count": 4,
      "metadata": {
        "colab": {
          "base_uri": "https://localhost:8080/",
          "height": 269
        },
        "id": "nlUf0QVykNnw",
        "outputId": "6bd1f898-f36e-49cf-aaa9-f479438899b0"
      },
      "outputs": [
        {
          "data": {
            "text/html": [
              "<div>\n",
              "<style scoped>\n",
              "    .dataframe tbody tr th:only-of-type {\n",
              "        vertical-align: middle;\n",
              "    }\n",
              "\n",
              "    .dataframe tbody tr th {\n",
              "        vertical-align: top;\n",
              "    }\n",
              "\n",
              "    .dataframe thead th {\n",
              "        text-align: right;\n",
              "    }\n",
              "</style>\n",
              "<table border=\"1\" class=\"dataframe\">\n",
              "  <thead>\n",
              "    <tr style=\"text-align: right;\">\n",
              "      <th></th>\n",
              "      <th>total_missing</th>\n",
              "      <th>perc_missing</th>\n",
              "    </tr>\n",
              "  </thead>\n",
              "  <tbody>\n",
              "    <tr>\n",
              "      <th>Mood</th>\n",
              "      <td>0</td>\n",
              "      <td>0.0</td>\n",
              "    </tr>\n",
              "    <tr>\n",
              "      <th>Sering_Pusing</th>\n",
              "      <td>0</td>\n",
              "      <td>0.0</td>\n",
              "    </tr>\n",
              "    <tr>\n",
              "      <th>Sering_Menangis</th>\n",
              "      <td>0</td>\n",
              "      <td>0.0</td>\n",
              "    </tr>\n",
              "    <tr>\n",
              "      <th>Sulit_Tidur</th>\n",
              "      <td>0</td>\n",
              "      <td>0.0</td>\n",
              "    </tr>\n",
              "    <tr>\n",
              "      <th>Pola_Makan</th>\n",
              "      <td>0</td>\n",
              "      <td>0.0</td>\n",
              "    </tr>\n",
              "    <tr>\n",
              "      <th>Sering_Gelisah</th>\n",
              "      <td>0</td>\n",
              "      <td>0.0</td>\n",
              "    </tr>\n",
              "    <tr>\n",
              "      <th>Hasil</th>\n",
              "      <td>0</td>\n",
              "      <td>0.0</td>\n",
              "    </tr>\n",
              "  </tbody>\n",
              "</table>\n",
              "</div>"
            ],
            "text/plain": [
              "                 total_missing  perc_missing\n",
              "Mood                         0           0.0\n",
              "Sering_Pusing                0           0.0\n",
              "Sering_Menangis              0           0.0\n",
              "Sulit_Tidur                  0           0.0\n",
              "Pola_Makan                   0           0.0\n",
              "Sering_Gelisah               0           0.0\n",
              "Hasil                        0           0.0"
            ]
          },
          "execution_count": 4,
          "metadata": {},
          "output_type": "execute_result"
        }
      ],
      "source": [
        "missing_data = pd.DataFrame({'total_missing': data.isnull().sum(), 'perc_missing': (data.isnull().sum()/616)*100})\n",
        "missing_data"
      ]
    },
    {
      "cell_type": "code",
      "execution_count": 5,
      "metadata": {
        "id": "mgD0cZXgkUJS"
      },
      "outputs": [],
      "source": [
        "# Mengambil kolom index ke-0 sampai ke-5\n",
        "X = data.iloc[:,:6].values\n",
        "\n",
        "# Hanya Mengambil kolom index ke-6\n",
        "Y = data.iloc[:,6].values"
      ]
    },
    {
      "cell_type": "code",
      "execution_count": 6,
      "metadata": {
        "colab": {
          "base_uri": "https://localhost:8080/"
        },
        "id": "4RKaOW5Gkc8X",
        "outputId": "199cca0b-57d1-4d8a-b5be-41ba3483cbfa"
      },
      "outputs": [
        {
          "name": "stdout",
          "output_type": "stream",
          "text": [
            "[[0 0 0 1 1 1]\n",
            " [1 1 0 1 1 1]\n",
            " [1 0 0 0 0 0]\n",
            " [1 1 0 1 1 1]\n",
            " [1 0 1 1 1 1]\n",
            " [0 0 0 1 1 0]\n",
            " [1 1 1 1 1 1]\n",
            " [1 1 1 1 1 1]\n",
            " [1 1 1 1 0 0]\n",
            " [1 0 0 1 1 1]\n",
            " [0 0 0 1 1 1]\n",
            " [0 1 0 1 1 0]\n",
            " [1 0 0 1 0 0]\n",
            " [1 1 1 1 1 1]\n",
            " [1 1 1 0 0 1]\n",
            " [1 1 0 0 0 1]\n",
            " [0 0 0 0 0 0]\n",
            " [0 0 0 0 0 0]\n",
            " [0 0 0 0 0 0]\n",
            " [1 1 1 1 1 1]\n",
            " [1 0 1 1 0 1]\n",
            " [0 0 0 1 1 1]\n",
            " [1 1 1 1 0 1]\n",
            " [1 1 1 1 1 1]\n",
            " [1 1 1 1 1 1]\n",
            " [0 1 0 1 0 1]\n",
            " [1 1 0 1 1 1]\n",
            " [1 1 1 1 1 1]\n",
            " [1 1 0 1 1 1]\n",
            " [1 0 1 1 1 0]\n",
            " [0 1 0 0 0 1]\n",
            " [1 1 1 1 1 1]\n",
            " [1 1 0 1 1 1]\n",
            " [1 1 1 1 1 1]\n",
            " [0 0 0 1 1 0]\n",
            " [1 1 1 0 1 1]\n",
            " [1 0 0 0 1 0]\n",
            " [1 1 1 1 1 1]\n",
            " [1 1 1 0 1 1]\n",
            " [0 0 0 0 0 0]\n",
            " [0 0 0 0 0 0]\n",
            " [0 0 0 0 0 0]\n",
            " [1 0 0 1 0 0]\n",
            " [1 1 0 0 0 0]\n",
            " [0 0 0 1 1 0]\n",
            " [1 1 0 1 1 1]\n",
            " [1 1 1 0 1 1]\n",
            " [1 1 0 0 0 1]\n",
            " [1 1 1 1 1 1]\n",
            " [0 0 0 0 1 0]\n",
            " [1 1 0 1 1 0]\n",
            " [0 0 0 0 0 0]\n",
            " [0 0 0 0 0 0]\n",
            " [0 0 0 0 0 0]\n",
            " [1 1 1 1 1 1]\n",
            " [0 1 0 1 1 1]\n",
            " [0 0 0 1 1 0]\n",
            " [1 1 0 1 1 1]\n",
            " [0 0 1 1 1 0]\n",
            " [1 0 0 0 1 0]\n",
            " [1 1 1 1 1 1]\n",
            " [1 0 1 0 0 1]\n",
            " [1 0 1 0 0 1]\n",
            " [1 1 1 0 1 1]\n",
            " [0 0 0 1 0 0]\n",
            " [1 1 0 0 0 0]\n",
            " [1 1 1 1 1 1]\n",
            " [0 0 0 1 0 1]\n",
            " [1 1 0 1 1 1]\n",
            " [0 1 0 1 0 1]\n",
            " [1 0 0 0 1 0]\n",
            " [1 0 1 1 1 1]\n",
            " [0 1 1 1 1 1]\n",
            " [1 0 0 1 1 1]\n",
            " [1 0 0 0 0 1]\n",
            " [1 0 1 1 1 1]\n",
            " [1 1 0 1 1 1]\n",
            " [0 0 1 0 1 0]\n",
            " [1 0 1 0 0 0]\n",
            " [0 1 0 1 0 0]\n",
            " [0 0 1 1 1 1]\n",
            " [1 0 0 1 0 0]\n",
            " [1 0 0 1 1 0]\n",
            " [0 1 0 1 0 0]\n",
            " [1 0 0 0 0 0]\n",
            " [0 0 0 0 1 0]\n",
            " [1 0 1 0 1 0]\n",
            " [1 1 1 1 1 1]\n",
            " [1 1 0 0 0 0]\n",
            " [1 1 0 0 0 0]\n",
            " [1 0 0 0 0 0]\n",
            " [1 1 1 1 0 1]\n",
            " [1 1 0 0 0 0]\n",
            " [1 0 1 1 1 1]\n",
            " [0 0 0 0 0 0]\n",
            " [1 0 1 1 1 1]\n",
            " [1 1 1 0 1 1]\n",
            " [0 0 0 0 0 0]\n",
            " [1 0 0 1 1 1]\n",
            " [0 0 0 0 1 0]\n",
            " [0 1 0 0 0 0]\n",
            " [0 0 0 1 1 1]\n",
            " [0 0 0 1 1 1]\n",
            " [1 1 0 1 0 0]\n",
            " [0 0 0 0 0 0]\n",
            " [0 0 0 0 0 0]\n",
            " [0 0 0 0 0 0]\n",
            " [1 1 1 1 1 1]\n",
            " [1 0 0 1 1 0]\n",
            " [1 0 1 1 0 1]\n",
            " [1 1 0 0 1 0]\n",
            " [0 0 0 1 0 1]\n",
            " [1 1 1 0 0 0]\n",
            " [1 0 1 1 0 1]\n",
            " [1 0 0 0 0 1]\n",
            " [1 0 0 1 1 0]\n",
            " [1 1 1 1 1 1]\n",
            " [0 0 0 0 0 0]\n",
            " [0 1 0 0 1 0]\n",
            " [1 1 0 0 0 1]\n",
            " [1 0 0 0 0 1]\n",
            " [0 1 1 1 0 1]\n",
            " [1 1 0 1 1 1]\n",
            " [0 1 0 1 1 1]\n",
            " [1 0 0 0 0 0]\n",
            " [1 1 0 0 0 0]\n",
            " [0 0 0 1 1 1]\n",
            " [0 1 0 0 0 1]\n",
            " [0 1 0 0 1 0]\n",
            " [1 1 1 0 1 0]\n",
            " [0 0 0 0 0 0]\n",
            " [1 0 1 0 0 1]\n",
            " [0 0 0 0 0 0]\n",
            " [0 0 0 0 0 0]\n",
            " [0 0 0 0 0 0]\n",
            " [1 1 1 1 1 1]\n",
            " [1 0 0 0 1 0]\n",
            " [1 0 1 0 0 1]\n",
            " [1 1 1 0 1 1]\n",
            " [0 0 0 0 1 0]\n",
            " [1 0 1 0 1 1]\n",
            " [1 1 0 0 1 0]\n",
            " [1 1 0 0 0 1]\n",
            " [0 0 0 1 0 0]\n",
            " [1 1 0 0 1 1]\n",
            " [1 0 1 0 0 0]\n",
            " [0 0 0 0 0 0]\n",
            " [0 0 0 0 0 0]\n",
            " [0 0 0 0 0 0]] [0 1 0 1 1 1 3 3 1 1 0 0 0 3 1 0 2 2 2 3 1 0 1 3 3 0 1 3 1 1 0 3 1 3 0 1 0\n",
            " 3 1 2 2 2 0 0 0 1 1 0 3 0 1 2 2 2 3 1 0 1 0 0 3 0 0 1 0 0 3 0 1 0 0 1 1 1\n",
            " 0 1 1 0 0 0 1 0 0 0 0 0 0 3 0 0 0 1 0 1 2 1 0 2 1 0 0 0 0 0 2 2 2 3 0 1 0\n",
            " 0 0 1 0 0 3 2 0 0 0 1 1 1 0 0 0 0 0 1 2 0 2 2 2 3 0 0 1 0 1 0 0 0 1 0 2 2\n",
            " 2]\n"
          ]
        }
      ],
      "source": [
        "print(X, Y)"
      ]
    },
    {
      "cell_type": "code",
      "execution_count": 7,
      "metadata": {
        "colab": {
          "base_uri": "https://localhost:8080/"
        },
        "id": "K2Tk-349kgGt",
        "outputId": "0c115471-b30c-4da5-9fc6-a1ae117b35ad"
      },
      "outputs": [
        {
          "data": {
            "text/plain": [
              "0    68\n",
              "1    41\n",
              "2    22\n",
              "3    18\n",
              "Name: Hasil, dtype: int64"
            ]
          },
          "execution_count": 7,
          "metadata": {},
          "output_type": "execute_result"
        }
      ],
      "source": [
        "data.Hasil.value_counts()"
      ]
    },
    {
      "cell_type": "code",
      "execution_count": 8,
      "metadata": {
        "colab": {
          "base_uri": "https://localhost:8080/"
        },
        "id": "JqthMSQakjQk",
        "outputId": "6fe4bde9-7a7a-417d-f30c-1edc73428f75"
      },
      "outputs": [
        {
          "name": "stdout",
          "output_type": "stream",
          "text": [
            "Counter({0: 68, 1: 41, 2: 22, 3: 18})\n"
          ]
        }
      ],
      "source": [
        "counter = Counter(Y)\n",
        "print(counter)"
      ]
    },
    {
      "cell_type": "code",
      "execution_count": 9,
      "metadata": {
        "id": "_PHE0HDrkouG"
      },
      "outputs": [],
      "source": [
        "from sklearn.model_selection import train_test_split\n",
        "X_train, X_test, Y_train, Y_test = train_test_split(X, Y, test_size = 0.2, random_state = 42)"
      ]
    },
    {
      "cell_type": "markdown",
      "metadata": {
        "id": "Ko-cvHM-lHBS"
      },
      "source": [
        "# Naive Bayes"
      ]
    },
    {
      "cell_type": "code",
      "execution_count": 10,
      "metadata": {
        "id": "v0uPYwNNlKa8"
      },
      "outputs": [],
      "source": [
        "from sklearn.naive_bayes import GaussianNB\n",
        "from sklearn.metrics import confusion_matrix\n",
        "# Mengaktifkan/memanggil/membuat fungsi klasifikasi Naive Bayes\n",
        "modelnb = GaussianNB()\n",
        "# Memasukkan data training pada fungsi klasifikasi Naive Bayes\n",
        "nbtrain = modelnb.fit(X_train, Y_train)"
      ]
    },
    {
      "cell_type": "code",
      "execution_count": 11,
      "metadata": {
        "colab": {
          "base_uri": "https://localhost:8080/"
        },
        "id": "6pAHXqJRlRCw",
        "outputId": "435af1fb-1166-4e0e-9eec-3fb6cbbf4798"
      },
      "outputs": [
        {
          "data": {
            "text/plain": [
              "array([1, 2, 2, 0, 1, 3, 0, 1, 1, 0, 1, 0, 0, 1, 3, 0, 0, 0, 0, 1, 1, 0,\n",
              "       1, 0, 0, 1, 0, 0, 1, 0], dtype=int64)"
            ]
          },
          "execution_count": 11,
          "metadata": {},
          "output_type": "execute_result"
        }
      ],
      "source": [
        "# Menentukan hasil prediksi dari x_test\n",
        "Y_pred = nbtrain.predict(X_test)\n",
        "Y_pred"
      ]
    },
    {
      "cell_type": "code",
      "execution_count": 12,
      "metadata": {
        "colab": {
          "base_uri": "https://localhost:8080/"
        },
        "id": "YgPqzh__lUi8",
        "outputId": "885d822e-fd4a-4530-aae0-933fefb19c52"
      },
      "outputs": [
        {
          "data": {
            "text/plain": [
              "array([[13,  1,  0,  0],\n",
              "       [ 2, 10,  0,  0],\n",
              "       [ 0,  0,  2,  0],\n",
              "       [ 0,  0,  0,  2]], dtype=int64)"
            ]
          },
          "execution_count": 12,
          "metadata": {},
          "output_type": "execute_result"
        }
      ],
      "source": [
        "confusion_matrix(Y_test, Y_pred)"
      ]
    },
    {
      "cell_type": "code",
      "execution_count": 13,
      "metadata": {
        "colab": {
          "base_uri": "https://localhost:8080/"
        },
        "id": "pRv4HtGulY05",
        "outputId": "1fa8ff41-c56d-4278-d3a4-77734059ae68"
      },
      "outputs": [
        {
          "name": "stdout",
          "output_type": "stream",
          "text": [
            "              precision    recall  f1-score   support\n",
            "\n",
            "           0       0.87      0.93      0.90        14\n",
            "           1       0.91      0.83      0.87        12\n",
            "           2       1.00      1.00      1.00         2\n",
            "           3       1.00      1.00      1.00         2\n",
            "\n",
            "    accuracy                           0.90        30\n",
            "   macro avg       0.94      0.94      0.94        30\n",
            "weighted avg       0.90      0.90      0.90        30\n",
            "\n"
          ]
        }
      ],
      "source": [
        "from sklearn.metrics import classification_report\n",
        "print(classification_report(Y_test, Y_pred))"
      ]
    },
    {
      "cell_type": "code",
      "execution_count": 14,
      "metadata": {
        "colab": {
          "base_uri": "https://localhost:8080/"
        },
        "id": "9L7YuNNaz5l8",
        "outputId": "ad3b46a4-4891-4f6e-c1ae-96e5ced9daaf"
      },
      "outputs": [
        {
          "data": {
            "text/plain": [
              "['naivebayess.sav']"
            ]
          },
          "execution_count": 14,
          "metadata": {},
          "output_type": "execute_result"
        }
      ],
      "source": [
        "import joblib\n",
        "filename = 'naivebayess.sav'\n",
        "joblib.dump(nbtrain, filename)"
      ]
    },
    {
      "cell_type": "markdown",
      "metadata": {
        "id": "J2xuV9KSm8Ve"
      },
      "source": [
        "# KNN"
      ]
    },
    {
      "cell_type": "code",
      "execution_count": 15,
      "metadata": {
        "id": "_FOs0ksEm-IY"
      },
      "outputs": [],
      "source": [
        "from sklearn.neighbors import KNeighborsClassifier\n",
        "k = 3\n",
        "#Train Model and Predict  \n",
        "model_knn = KNeighborsClassifier(n_neighbors = k).fit(X_train,Y_train)\n",
        "model_knn\n",
        "Y_pred_KNN = model_knn.predict(X_test)"
      ]
    },
    {
      "cell_type": "code",
      "execution_count": 16,
      "metadata": {
        "colab": {
          "base_uri": "https://localhost:8080/"
        },
        "id": "qVJSga4QxCTU",
        "outputId": "d506ab0d-ae0c-4622-f73b-30843f515810"
      },
      "outputs": [
        {
          "name": "stdout",
          "output_type": "stream",
          "text": [
            "              precision    recall  f1-score   support\n",
            "\n",
            "           0       0.70      1.00      0.82        14\n",
            "           1       1.00      0.50      0.67        12\n",
            "           2       1.00      1.00      1.00         2\n",
            "           3       1.00      1.00      1.00         2\n",
            "\n",
            "    accuracy                           0.80        30\n",
            "   macro avg       0.93      0.88      0.87        30\n",
            "weighted avg       0.86      0.80      0.78        30\n",
            "\n"
          ]
        }
      ],
      "source": [
        "from sklearn.metrics import classification_report\n",
        "print(classification_report(Y_test, Y_pred_KNN))"
      ]
    },
    {
      "cell_type": "code",
      "execution_count": 17,
      "metadata": {
        "colab": {
          "base_uri": "https://localhost:8080/"
        },
        "id": "GxM5zAvk0L6G",
        "outputId": "009391be-b6e6-4eb1-dbea-52a0c9fca052"
      },
      "outputs": [
        {
          "data": {
            "text/plain": [
              "['knnmodel.sav']"
            ]
          },
          "execution_count": 17,
          "metadata": {},
          "output_type": "execute_result"
        }
      ],
      "source": [
        "import joblib\n",
        "filename = 'knnmodel.sav'\n",
        "joblib.dump(model_knn, filename)"
      ]
    },
    {
      "cell_type": "markdown",
      "metadata": {
        "id": "WLxX59oAons_"
      },
      "source": [
        "# Decision Tree"
      ]
    },
    {
      "cell_type": "code",
      "execution_count": 17,
      "metadata": {
        "id": "vIAFnzySo8Z9"
      },
      "outputs": [],
      "source": [
        "from sklearn.tree import DecisionTreeClassifier\n",
        "model_default = DecisionTreeClassifier()\n",
        "model_default = model_default.fit(X_train, Y_train)\n"
      ]
    },
    {
      "cell_type": "code",
      "execution_count": 18,
      "metadata": {
        "colab": {
          "base_uri": "https://localhost:8080/"
        },
        "id": "3iZf5oq4pLSo",
        "outputId": "adc58fd2-343e-40cd-c3c0-44a0f220a1b9"
      },
      "outputs": [
        {
          "name": "stdout",
          "output_type": "stream",
          "text": [
            "Train Accuracy     :  0.9831932773109243\n",
            "Train Precission   :  0.9831932773109243\n",
            "Train Recal        :  0.9831932773109243 \n",
            "\n",
            "Test Accuracy     :  0.8333333333333334\n",
            "Test Precission   :  0.8333333333333334\n",
            "Test Recal        :  0.8333333333333334\n"
          ]
        }
      ],
      "source": [
        "from sklearn import metrics\n",
        "# hasil prediksi training set\n",
        "Y_pred_train_default = model_default.predict(X_train)\n",
        "                                              \n",
        "# hasil prediksi test set\n",
        "Y_pred_default = model_default.predict(X_test)\n",
        "\n",
        "# train set score\n",
        "print(\"Train Accuracy     : \", metrics.accuracy_score(Y_train, Y_pred_train_default))\n",
        "print(\"Train Precission   : \", metrics.accuracy_score(Y_train, Y_pred_train_default))\n",
        "print(\"Train Recal        : \", metrics.accuracy_score(Y_train, Y_pred_train_default),'\\n')\n",
        "\n",
        "# test set score\n",
        "print(\"Test Accuracy     : \", metrics.accuracy_score(Y_test, Y_pred_default))\n",
        "print(\"Test Precission   : \", metrics.accuracy_score(Y_test, Y_pred_default))\n",
        "print(\"Test Recal        : \", metrics.accuracy_score(Y_test, Y_pred_default))"
      ]
    },
    {
      "cell_type": "code",
      "execution_count": 19,
      "metadata": {
        "colab": {
          "base_uri": "https://localhost:8080/"
        },
        "id": "twZe4BWCpeXa",
        "outputId": "af1a9484-a2a7-4234-d9d5-0f6c9d69296d"
      },
      "outputs": [
        {
          "name": "stdout",
          "output_type": "stream",
          "text": [
            "              precision    recall  f1-score   support\n",
            "\n",
            "           0       0.74      1.00      0.85        14\n",
            "           1       1.00      0.58      0.74        12\n",
            "           2       1.00      1.00      1.00         2\n",
            "           3       1.00      1.00      1.00         2\n",
            "\n",
            "    accuracy                           0.83        30\n",
            "   macro avg       0.93      0.90      0.90        30\n",
            "weighted avg       0.88      0.83      0.82        30\n",
            "\n"
          ]
        }
      ],
      "source": [
        "from sklearn.metrics import classification_report\n",
        "print(classification_report(Y_test, Y_pred_default))"
      ]
    },
    {
      "cell_type": "code",
      "execution_count": 22,
      "metadata": {
        "colab": {
          "base_uri": "https://localhost:8080/"
        },
        "id": "J3VpnpCc0ikf",
        "outputId": "e7dd81ff-4c11-4ed9-9ce3-144cd2ffab61"
      },
      "outputs": [
        {
          "data": {
            "text/plain": [
              "['decisisiontree.sav']"
            ]
          },
          "execution_count": 22,
          "metadata": {},
          "output_type": "execute_result"
        }
      ],
      "source": [
        "import joblib\n",
        "filename = 'decisisiontree.sav'\n",
        "joblib.dump(model_default, filename)"
      ]
    },
    {
      "cell_type": "markdown",
      "metadata": {
        "id": "rCGdfraAtaRI"
      },
      "source": [
        "# Logistic Regression"
      ]
    },
    {
      "cell_type": "code",
      "execution_count": 20,
      "metadata": {
        "id": "yvvWFsj1tfVI"
      },
      "outputs": [],
      "source": [
        "from sklearn.linear_model import LogisticRegression\n",
        "logistic = LogisticRegression()\n",
        "logistic.fit(X_train, Y_train)\n",
        "\n",
        "log_pred = logistic.predict(X_test)"
      ]
    },
    {
      "cell_type": "code",
      "execution_count": 21,
      "metadata": {
        "colab": {
          "base_uri": "https://localhost:8080/"
        },
        "id": "4Wp5V9sZtsBy",
        "outputId": "0d5acd0a-1851-4726-bbfb-08b8eeb3a281"
      },
      "outputs": [
        {
          "name": "stdout",
          "output_type": "stream",
          "text": [
            "              precision    recall  f1-score   support\n",
            "\n",
            "           0       0.74      1.00      0.85        14\n",
            "           1       1.00      0.58      0.74        12\n",
            "           2       1.00      1.00      1.00         2\n",
            "           3       1.00      1.00      1.00         2\n",
            "\n",
            "    accuracy                           0.83        30\n",
            "   macro avg       0.93      0.90      0.90        30\n",
            "weighted avg       0.88      0.83      0.82        30\n",
            "\n"
          ]
        }
      ],
      "source": [
        "from sklearn.metrics import classification_report\n",
        "print(classification_report(Y_test, log_pred))"
      ]
    },
    {
      "cell_type": "code",
      "execution_count": 25,
      "metadata": {
        "colab": {
          "base_uri": "https://localhost:8080/"
        },
        "id": "NuZRHB531IrL",
        "outputId": "a0093fa3-a4e0-4818-a68d-789cea4ac5be"
      },
      "outputs": [
        {
          "data": {
            "text/plain": [
              "['logistic.sav']"
            ]
          },
          "execution_count": 25,
          "metadata": {},
          "output_type": "execute_result"
        }
      ],
      "source": [
        "import joblib\n",
        "filename = 'logistic.sav'\n",
        "joblib.dump(logistic, filename)"
      ]
    },
    {
      "cell_type": "markdown",
      "metadata": {
        "id": "cMEoSup8t7z3"
      },
      "source": [
        "SVM"
      ]
    },
    {
      "cell_type": "code",
      "execution_count": 22,
      "metadata": {
        "colab": {
          "base_uri": "https://localhost:8080/"
        },
        "id": "PfiPqfgwt-DC",
        "outputId": "8604f324-34ed-4cf2-b8a3-a2e13bd7a6f9"
      },
      "outputs": [
        {
          "name": "stdout",
          "output_type": "stream",
          "text": [
            "              precision    recall  f1-score   support\n",
            "\n",
            "           0       0.74      1.00      0.85        14\n",
            "           1       1.00      0.58      0.74        12\n",
            "           2       1.00      1.00      1.00         2\n",
            "           3       1.00      1.00      1.00         2\n",
            "\n",
            "    accuracy                           0.83        30\n",
            "   macro avg       0.93      0.90      0.90        30\n",
            "weighted avg       0.88      0.83      0.82        30\n",
            "\n"
          ]
        }
      ],
      "source": [
        "from sklearn.svm import SVC\n",
        "\n",
        "svc = SVC()\n",
        "svc_model = svc.fit(X_train, Y_train)\n",
        "\n",
        "svc_pred = svc_model.predict(X_test)\n",
        "print(classification_report(Y_test, svc_pred))"
      ]
    },
    {
      "cell_type": "code",
      "execution_count": 27,
      "metadata": {
        "colab": {
          "base_uri": "https://localhost:8080/"
        },
        "id": "0Fv7zBBW0tvN",
        "outputId": "ece54175-7a90-4d52-cc45-084794be66c0"
      },
      "outputs": [
        {
          "data": {
            "text/plain": [
              "['svc.sav']"
            ]
          },
          "execution_count": 27,
          "metadata": {},
          "output_type": "execute_result"
        }
      ],
      "source": [
        "import joblib\n",
        "filename = 'svc.sav'\n",
        "joblib.dump(svc_model, filename)"
      ]
    },
    {
      "cell_type": "markdown",
      "metadata": {
        "id": "yVT_SsD5uJ-l"
      },
      "source": [
        "# Random Forest"
      ]
    },
    {
      "cell_type": "code",
      "execution_count": 23,
      "metadata": {
        "colab": {
          "base_uri": "https://localhost:8080/"
        },
        "id": "EzxLFAoLuMYz",
        "outputId": "5b4f665f-06d1-402c-a3f9-d4f1a16c90cc"
      },
      "outputs": [
        {
          "name": "stdout",
          "output_type": "stream",
          "text": [
            "              precision    recall  f1-score   support\n",
            "\n",
            "           0       0.98      0.98      0.98        54\n",
            "           1       0.97      0.97      0.97        29\n",
            "           2       1.00      1.00      1.00        20\n",
            "           3       1.00      1.00      1.00        16\n",
            "\n",
            "    accuracy                           0.98       119\n",
            "   macro avg       0.99      0.99      0.99       119\n",
            "weighted avg       0.98      0.98      0.98       119\n",
            "\n"
          ]
        }
      ],
      "source": [
        "from sklearn.ensemble import RandomForestClassifier\n",
        "\n",
        "rf = RandomForestClassifier()\n",
        "rf_model = rf.fit(X_train, Y_train)\n",
        "\n",
        "rf_pred = rf_model.predict(X_train)\n",
        "print(classification_report(Y_train, rf_pred))"
      ]
    },
    {
      "cell_type": "code",
      "execution_count": 29,
      "metadata": {
        "colab": {
          "base_uri": "https://localhost:8080/"
        },
        "id": "VK899TYO04ys",
        "outputId": "41a4bfd4-cc80-45ad-9727-30e38d4fbad4"
      },
      "outputs": [
        {
          "data": {
            "text/plain": [
              "['randomforest.sav']"
            ]
          },
          "execution_count": 29,
          "metadata": {},
          "output_type": "execute_result"
        }
      ],
      "source": [
        "import joblib\n",
        "filename = 'randomforest.sav'\n",
        "joblib.dump(rf_model, filename)"
      ]
    },
    {
      "cell_type": "markdown",
      "metadata": {
        "id": "dD26vXHOuZLS"
      },
      "source": [
        "# Klasifikasi"
      ]
    },
    {
      "cell_type": "code",
      "execution_count": 24,
      "metadata": {
        "colab": {
          "base_uri": "https://localhost:8080/"
        },
        "id": "hY3hIJasuhHt",
        "outputId": "f597f3f1-8c7d-4ca0-be68-c50449662c7f"
      },
      "outputs": [
        {
          "ename": "ValueError",
          "evalue": "could not convert string to float: ''",
          "output_type": "error",
          "traceback": [
            "\u001b[1;31m---------------------------------------------------------------------------\u001b[0m",
            "\u001b[1;31mValueError\u001b[0m                                Traceback (most recent call last)",
            "Cell \u001b[1;32mIn [24], line 1\u001b[0m\n\u001b[1;32m----> 1\u001b[0m Mood \u001b[39m=\u001b[39m \u001b[39mfloat\u001b[39;49m(\u001b[39minput\u001b[39;49m(\u001b[39m\"\u001b[39;49m\u001b[39mMood Tidak Stabil = \u001b[39;49m\u001b[39m\"\u001b[39;49m))\n\u001b[0;32m      2\u001b[0m Sering_Pusing \u001b[39m=\u001b[39m \u001b[39mfloat\u001b[39m(\u001b[39minput\u001b[39m(\u001b[39m\"\u001b[39m\u001b[39mSering Pusing = \u001b[39m\u001b[39m\"\u001b[39m))\n\u001b[0;32m      3\u001b[0m Sering_Menangis \u001b[39m=\u001b[39m \u001b[39mfloat\u001b[39m(\u001b[39minput\u001b[39m(\u001b[39m\"\u001b[39m\u001b[39mSering Menangis        = \u001b[39m\u001b[39m\"\u001b[39m))\n",
            "\u001b[1;31mValueError\u001b[0m: could not convert string to float: ''"
          ]
        }
      ],
      "source": [
        "Mood = float(input(\"Mood Tidak Stabil = \"))\n",
        "Sering_Pusing = float(input(\"Sering Pusing = \"))\n",
        "Sering_Menangis = float(input(\"Sering Menangis        = \"))\n",
        "Sulit_Tidur = float(input(\"Sulit Tidur            = \"))\n",
        "Pola_Makan = float(input(\"Pola makan tidak teratur = \"))\n",
        "Sering_Gelisah           = float(input(\"Sering merasa gelisah           = \"))\n",
        "data_baru     = [[ Mood, Sering_Pusing, Sering_Menangis, Sulit_Tidur, Pola_Makan, Sering_Gelisah]]\n",
        "\n",
        "# memprediksi data baru\n",
        "hasil_prediksi = rf_model.predict(data_baru)\n",
        "hasil_prediksi = float(hasil_prediksi)\n",
        "\n",
        "# cetak hasil prediksi\n",
        "if hasil_prediksi == 0:\n",
        "  print(\"\\ncukup sehat\")\n",
        "elif hasil_prediksi == 1:\n",
        "  print(\"\\nkurang sehat\")\n",
        "elif hasil_prediksi == 2:\n",
        "  print(\"\\nsehat\")\n",
        "elif hasil_prediksi == 3:\n",
        "  print(\"\\ntidak sehat\")\n",
        "  "
      ]
    }
  ],
  "metadata": {
    "colab": {
      "provenance": []
    },
    "kernelspec": {
      "display_name": "Python 3.9.13 ('PA')",
      "language": "python",
      "name": "python3"
    },
    "language_info": {
      "codemirror_mode": {
        "name": "ipython",
        "version": 3
      },
      "file_extension": ".py",
      "mimetype": "text/x-python",
      "name": "python",
      "nbconvert_exporter": "python",
      "pygments_lexer": "ipython3",
      "version": "3.9.13"
    },
    "vscode": {
      "interpreter": {
        "hash": "aee2ff609782db7f9cd03ec163ac4c7f080a2e1d72c56e89e1428e1b483ec68b"
      }
    }
  },
  "nbformat": 4,
  "nbformat_minor": 0
}
